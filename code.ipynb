{
  "cells": [
    {
      "cell_type": "code",
      "execution_count": null,
      "metadata": {
        "colab": {
          "base_uri": "https://localhost:8080/"
        },
        "id": "CtI7Z-fajx4V",
        "outputId": "eda91a94-82a7-4dca-b05b-cf1117ebf666"
      },
      "outputs": [
        {
          "output_type": "stream",
          "name": "stdout",
          "text": [
            "Mounted at /content/drive/\n"
          ]
        }
      ],
      "source": [
        "from google.colab import drive\n",
        "drive.mount('/content/drive/')"
      ]
    },
    {
      "cell_type": "code",
      "execution_count": null,
      "metadata": {
        "id": "w0oF1Qbbs0Us"
      },
      "outputs": [],
      "source": [
        "import pandas as pd\n",
        "import os\n",
        "\n",
        "# Navigate to the directory containing your file\n",
        "os.chdir('/content/drive/')\n"
      ]
    },
    {
      "cell_type": "code",
      "execution_count": 8,
      "metadata": {
        "colab": {
          "base_uri": "https://localhost:8080/"
        },
        "id": "H7tLCkNktseZ",
        "outputId": "6376818e-47cb-42b0-a00d-5e9001f8f1f0"
      },
      "outputs": [
        {
          "output_type": "stream",
          "name": "stdout",
          "text": [
            "Loading and preparing data...\n",
            "Prediction: Spam\n",
            "Confidence: Spam: 99.32%, Ham: 0.68%\n"
          ]
        }
      ],
      "source": [
        "\n",
        "import pandas as pd\n",
        "import numpy as np\n",
        "from sklearn.model_selection import train_test_split, GridSearchCV\n",
        "from sklearn.feature_extraction.text import TfidfVectorizer\n",
        "from sklearn.ensemble import RandomForestClassifier\n",
        "from sklearn.metrics import classification_report, accuracy_score\n",
        "from sklearn.pipeline import Pipeline\n",
        "import nltk\n",
        "from nltk.corpus import stopwords\n",
        "from nltk.stem import WordNetLemmatizer\n",
        "import re\n",
        "\n",
        "def download_nltk_resources():\n",
        "\n",
        "    resources = ['stopwords', 'wordnet']\n",
        "    for resource in resources:\n",
        "        try:\n",
        "            nltk.download(resource, quiet=True)\n",
        "        except Exception as e:\n",
        "            print(f\"Error downloading {resource}: {str(e)}\")\n",
        "\n",
        "def clean_text(text):\n",
        "\n",
        "    try:\n",
        "\n",
        "        text = str(text).lower()\n",
        "\n",
        "\n",
        "        text = re.sub(r'[^\\w\\s]', ' ', text)\n",
        "        text = re.sub(r'\\s+', ' ', text)\n",
        "        text = text.strip()\n",
        "\n",
        "\n",
        "        words = text.split()\n",
        "\n",
        "\n",
        "        try:\n",
        "            stop_words = set(stopwords.words('english'))\n",
        "            words = [w for w in words if w not in stop_words]\n",
        "        except:\n",
        "            pass\n",
        "\n",
        "\n",
        "        try:\n",
        "            lemmatizer = WordNetLemmatizer()\n",
        "            words = [lemmatizer.lemmatize(w) for w in words]\n",
        "        except:\n",
        "            pass\n",
        "\n",
        "        return ' '.join(words)\n",
        "    except Exception as e:\n",
        "        print(f\"Error in clean_text: {str(e)}\")\n",
        "        return text\n",
        "\n",
        "def main():\n",
        "\n",
        "    download_nltk_resources()\n",
        "\n",
        "    print(\"Loading and preparing data...\")\n",
        "\n",
        "\n",
        "if __name__ == \"__main__\":\n",
        "    main()\n",
        "\n",
        "\n",
        "import pickle\n",
        "\n",
        "def load_model():\n",
        "\n",
        "    with open('/content/drive/MyDrive/data/spam_model.pkl', 'rb') as model_file:\n",
        "        model = pickle.load(model_file)\n",
        "\n",
        "    with open('/content/drive/MyDrive/data/tfidf_vectorizer.pkl', 'rb') as vectorizer_file:\n",
        "        vectorizer = pickle.load(vectorizer_file)\n",
        "\n",
        "    return model, vectorizer\n",
        "\n",
        "def predict_email(email_text, model, vectorizer):\n",
        "\n",
        "    cleaned_text = clean_text(email_text)\n",
        "\n",
        "    text_tfidf = vectorizer.transform([cleaned_text])\n",
        "\n",
        "    prediction = model.predict(text_tfidf)\n",
        "    probability = model.predict_proba(text_tfidf)\n",
        "\n",
        "    return prediction[0], probability[0]\n",
        "\n",
        "\n",
        "model, vectorizer = load_model()\n",
        "new_email = \"\"\"yo ur wom an ne eds an escapenumber in ch ma n b e th at ma n f or h er le arn h ow here tu rn of f not ific ati ons here escapelong dy international exports ltd st regina escapenumber belize city belize escapelong\n",
        "\"\"\"\n",
        "prediction, probability = predict_email(new_email, model, vectorizer)\n",
        "print(f\"Prediction: {prediction}\")\n",
        "print(f\"Confidence: Spam: {probability[1]:.2%}, Ham: {probability[0]:.2%}\")\n",
        "\n",
        "\n"
      ]
    }
  ],
  "metadata": {
    "colab": {
      "provenance": []
    },
    "kernelspec": {
      "display_name": "Python 3",
      "name": "python3"
    },
    "language_info": {
      "name": "python"
    }
  },
  "nbformat": 4,
  "nbformat_minor": 0
}
